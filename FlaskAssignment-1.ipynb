{
 "cells": [
  {
   "cell_type": "raw",
   "id": "bf19f1f2-291c-4283-8811-3969d221624e",
   "metadata": {},
   "source": [
    "Q1.What is flask Framework?WHt are the advantage of flask Freamework?"
   ]
  },
  {
   "cell_type": "markdown",
   "id": "10b8c8f2-d760-470e-9036-91327a75d780",
   "metadata": {},
   "source": [
    "Flask is a lightweight, flexible Python web framework. It's classified as a \"microframework\" because it doesn't come with many built-in features like ORM or form validation. This simplicity makes it highly customizable and efficient for building small to medium-sized web applications.\n",
    "\n",
    "Advantages of Flask Framework\n",
    "Flexibility: Flask offers great flexibility, allowing developers to choose their own tools and libraries for database interaction, form validation, and other functionalities.\n",
    "Simplicity: Its core is minimal, making it easy to learn and understand.\n",
    "Lightweight: Flask has a small footprint, making it suitable for resource-constrained environments.\n",
    "Performance: Due to its simplicity, Flask applications tend to be performant.\n",
    "Scalability: While it starts small, Flask can be scaled to handle complex applications by adding extensions and libraries.\n",
    "Large Community: A vibrant community provides extensive support and resources.\n",
    "Pythonic: Flask adheres to Python's philosophy, making it natural for Python developers to use.\n",
    "Rapid Development: Its simplicity and flexibility contribute to faster development cycles."
   ]
  },
  {
   "cell_type": "raw",
   "id": "c04b5f45-53e1-40ef-b41a-d8d0d18cd2f2",
   "metadata": {},
   "source": [
    "Q2.Create a simple flsk application todisplay \"hello world\".Attach the screenshot of the output in jupyter Notebbok."
   ]
  },
  {
   "cell_type": "raw",
   "id": "f1f70eec-92cc-4104-9fbf-949c44806a45",
   "metadata": {},
   "source": [
    "xplanation:\n",
    "\n",
    "Import Flask: Imports the Flask class from the Flask library.\n",
    "Create Flask app: Creates a Flask application instance named app.\n",
    "Define a route: Defines a route for the root URL (/) using the @app.route decorator.\n",
    "Return the message: The hello_world function returns the string 'Hello, World!'.\n",
    "Run the app: Starts the Flask development server with debug mode enabled for automatic reloading.\n",
    "To run this code:\n",
    "\n",
    "Save the code as a Python file (e.g., app.py).\n",
    "Open a terminal or command prompt in the same directory.\n",
    "Run the command python app.py.\n",
    "Open a web browser and go to http://127.0.0.1:5000/. You should see \"Hello, World!\" displayed.\n",
    "Important:\n",
    "\n",
    "Jupyter Notebook is primarily for interactive data analysis and visualization. For web applications, it's recommended to use a dedicated development environment or a web server.\n",
    "The debug=True argument in app.run() is useful for development but should be removed in production for security reasons.\n",
    "Screenshot:\n",
    "A screenshot would typically show the web page with the \"Hello, World!\" message. Since we're not running the app within Jupyter Notebook, a screenshot isn't applicable in this context.\n",
    "\n",
    "Alternative:\n",
    "To visualize the output within Jupyter Notebook, you could use a web scraping library like requests to fetch the content of the webpage and display it. However, this is not the recommended way to run Flask applications."
   ]
  },
  {
   "cell_type": "raw",
   "id": "55d7e9e0-01c0-4cba-a645-92f3e25e3eb9",
   "metadata": {},
   "source": [
    "Q3.What is app routing in flask?why do we use app routes?"
   ]
  },
  {
   "cell_type": "markdown",
   "id": "b8c4eab4-67db-48e1-96bf-88304502a456",
   "metadata": {},
   "source": [
    "App Routing in Flask\n",
    "App routing in Flask refers to the process of mapping URLs to specific Python functions (called view functions) that handle incoming requests and generate responses. It's essentially defining the structure of your web application and how different parts of it should respond to user interactions.\n",
    "\n",
    "Why Use App Routes?\n",
    "Organization: Clearly defines the structure of your application and how different URLs relate to specific functionalities.\n",
    "User Experience: Allows you to create meaningful and user-friendly URLs that reflect the content of the page.\n",
    "Modularity: Encourages code reusability and maintainability by separating different parts of the application into distinct functions.\n",
    "Flexibility: Provides control over how your application responds to different HTTP methods (GET, POST, PUT, DELETE, etc.).\n",
    "Scalability: Helps in building complex applications with multiple pages and features by organizing code effectively."
   ]
  },
  {
   "cell_type": "code",
   "execution_count": null,
   "id": "31d2d115-9b4b-4ec3-9da6-12f96da11832",
   "metadata": {},
   "outputs": [],
   "source": []
  },
  {
   "cell_type": "raw",
   "id": "beaf3c57-bb49-48e0-8a6b-26a4b9dff4da",
   "metadata": {},
   "source": [
    "Q4. Create a “/welcome” route to display the welcome message “Welcome to ABC Corporation” and a “/”\n",
    "route to show the following details:\n",
    "Company Name: ABC Corporation\n",
    "Location: India\n",
    "Contact Detail: 999-999-9999"
   ]
  },
  {
   "cell_type": "code",
   "execution_count": null,
   "id": "19cd6ee0-a827-4563-af9b-ac67ecade9a8",
   "metadata": {},
   "outputs": [],
   "source": [
    "from flask import Flask\n",
    "\n",
    "app = Flask(__name__)\n",
    "\n",
    "@app.route('/welcome')\n",
    "def welcome():\n",
    "    return 'Welcome to ABC Corporation'\n",
    "\n",
    "@app.route('/')\n",
    "def home():\n",
    "    return '''\n",
    "    Company Name: ABC Corporation\n",
    "    Location: India\n",
    "    Contact Detail: 999-999-9999\n",
    "    '''\n",
    "\n",
    "if __name__ == '__main__':\n",
    "    app.run(debug=True)\n"
   ]
  },
  {
   "cell_type": "raw",
   "id": "577a6248-f698-4301-b6b5-db7221d22da9",
   "metadata": {},
   "source": [
    "Q5.What function is used in Flask for URL Building? Write a Python code to demonstrate the working of the\n",
    "url_for() function."
   ]
  },
  {
   "cell_type": "code",
   "execution_count": null,
   "id": "3dca5a49-7e25-4ed9-8567-79c407256713",
   "metadata": {},
   "outputs": [],
   "source": [
    "from flask import Flask, url_for\n",
    "\n",
    "app = Flask(__name__)\n",
    "\n",
    "@app.route('/')\n",
    "def index():\n",
    "    return 'This is the index page'\n",
    "\n",
    "@app.route('/about')\n",
    "def about():\n",
    "    return 'This is the about page'\n",
    "\n",
    "@app.route('/contact/<name>')\n",
    "def contact(name):\n",
    "    return f'Contact page for {name}'\n",
    "\n",
    "if __name__ == '__main__':\n",
    "    with app.test_request_context():\n",
    "        print(url_for('index'))\n",
    "        print(url_for('about'))\n",
    "        print(url_for('contact', name='Alice'))\n",
    "    app.run(debug=True)\n"
   ]
  }
 ],
 "metadata": {
  "kernelspec": {
   "display_name": "Python 3 (ipykernel)",
   "language": "python",
   "name": "python3"
  },
  "language_info": {
   "codemirror_mode": {
    "name": "ipython",
    "version": 3
   },
   "file_extension": ".py",
   "mimetype": "text/x-python",
   "name": "python",
   "nbconvert_exporter": "python",
   "pygments_lexer": "ipython3",
   "version": "3.10.8"
  }
 },
 "nbformat": 4,
 "nbformat_minor": 5
}
