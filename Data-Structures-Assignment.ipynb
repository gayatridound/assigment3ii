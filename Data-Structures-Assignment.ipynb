{
 "cells": [
  {
   "cell_type": "raw",
   "id": "cdd34e0b-d583-4fc3-adca-dce7d7375a5b",
   "metadata": {},
   "source": [
    "Q1.How do you comment code in python? What are the diiferent types of cooments?"
   ]
  },
  {
   "cell_type": "markdown",
   "id": "ecf3004d-b795-4597-b77c-8000f13494f2",
   "metadata": {},
   "source": [
    "1].Single-Line Comments:\n",
    "\n",
    "Use a hash symbol (#) at the beginning of the line.\n",
    "Everything following the hash symbol on that line is considered a comment.\n",
    "Python\n",
    "#This is a single-line comment explaining the code below\n",
    "x = 5  # This line assigns the value 5 to the variable x\n",
    "\n",
    "2].Multi-Line Comments:\n",
    "\n",
    "Use triple quotes (either three single quotes ''' or three double quotes \"\"\").\n",
    "Everything between the quotes is considered a comment, even if it spans multiple lines.\n",
    "Python\n",
    "\"\"\"\n",
    "This is a multi-line comment explaining a block of code.\n",
    "It can be used to provide more detailed explanations.\n",
    "\"\"\"\n",
    "y = 10\n",
    "z = x + y  # This line adds the values of x and y and stores the result in z\n",
    "Use code with caution.\n",
    "content_copy\n",
    "\n",
    "3].Docstrings:\n",
    "\n",
    "Docstrings are special types of multi-line comments placed at the beginning of a function or class definition.\n",
    "They are used to provide documentation about the function or class, including its purpose, parameters, and return value.\n",
    "Use triple quotes (''' or \"\"\").\n",
    "Python\n",
    "def add_numbers(x, y):\n",
    "    \"\"\"\n",
    "    This function adds two numbers and returns the sum.\n",
    "\n",
    "    Args:\n",
    "        x: The first number.\n",
    "        y: The second number.\n",
    "\n",
    "    Returns:\n",
    "        The sum of x and y.\n",
    "    \"\"\"\n",
    "    return x + y\n",
    "\n",
    "result = add_numbers(5, 10)\n",
    "print(result)  # Output: 15"
   ]
  },
  {
   "cell_type": "raw",
   "id": "8aad8ba5-f929-463b-9124-108d8a5b89ab",
   "metadata": {},
   "source": [
    "Q2.What are variables in python?Hpw do you declare and assign values to variables?"
   ]
  },
  {
   "cell_type": "code",
   "execution_count": null,
   "id": "8765c261-531c-4f06-a72e-3be7e4b49ff8",
   "metadata": {},
   "outputs": [],
   "source": []
  },
  {
   "cell_type": "markdown",
   "id": "cbcceed5-0333-4317-8329-f411ab072944",
   "metadata": {},
   "source": [
    "n Python, variables act as named containers that store data values. They allow you to work with data throughout your program without having to constantly repeat the actual values.\n",
    "\n",
    "Declaring and Assigning Values to Variables:\n",
    "\n",
    "Unlike some other programming languages, Python doesn't require explicit variable declaration. You create a variable simply by assigning a value to it using the equal sign (=).\n",
    "\n",
    "Steps:\n",
    "\n",
    "Choose a variable name:\n",
    "\n",
    "The name should be descriptive and reflect the type of data it will hold.\n",
    "It can contain letters (uppercase and lowercase), numbers, and underscores (_).\n",
    "It cannot start with a number or special character (except underscore).\n",
    "It's case-sensitive (e.g., age is different from Age).\n",
    "Avoid using reserved keywords in Python (like if, for, def).\n",
    "Assign a value:\n",
    "\n",
    "Use the equal sign (=) to assign a value to the variable name.\n",
    "The value can be of various data types like integers, floats, strings, booleans, lists, dictionaries, etc."
   ]
  },
  {
   "cell_type": "code",
   "execution_count": 1,
   "id": "a51df13d-ddb3-4284-ade0-7852c96c34a9",
   "metadata": {},
   "outputs": [],
   "source": [
    "# Integers\n",
    "age = 25\n",
    "num_items = 10\n",
    "\n",
    "# Floats (decimals)\n",
    "pi = 3.14159\n",
    "discount_rate = 0.1\n",
    "\n",
    "# Strings (text)\n",
    "name = \"Alice\"\n",
    "greeting = \"Hello, world!\"\n",
    "\n",
    "# Booleans (True or False)\n",
    "is_sunny = True\n",
    "is_finished = False\n",
    "\n",
    "# Lists (ordered collections)\n",
    "fruits = [\"apple\", \"banana\", \"orange\"]\n",
    "numbers = [1, 2, 3, 4, 5]\n"
   ]
  },
  {
   "cell_type": "raw",
   "id": "3c8a8b76-228e-45d9-bbf2-cc856d076380",
   "metadata": {},
   "source": [
    "Q3.How do you convert one data type to another in python?"
   ]
  },
  {
   "cell_type": "markdown",
   "id": "57fe4c5c-46ba-4097-a113-258d613424f8",
   "metadata": {},
   "source": [
    "1. Implicit Type Conversion:\n",
    "\n",
    "Python automatically converts data types in certain situations to perform operations or assign values.\n",
    "\n",
    "It's generally safe and avoids data loss when the conversion is straightforward.\n",
    "\n",
    "2. Explicit Type Conversion (Type Casting):\n",
    "\n",
    "You use built-in functions like int(), float(), and str() to explicitly convert one data type to another.\n",
    "This is useful when you need to control the conversion or when implicit conversion might not work as expected.\n",
    "Be cautious of potential data loss during conversion, especially when converting from a wider data type (e.g., float) to a narrower one (e.g., int)."
   ]
  },
  {
   "cell_type": "code",
   "execution_count": 2,
   "id": "de3cfebb-9daa-46cd-94e6-5d9fbc0d84e4",
   "metadata": {},
   "outputs": [
    {
     "name": "stdout",
     "output_type": "stream",
     "text": [
      "25 <class 'int'>\n",
      "3 <class 'int'>\n",
      "10.0 <class 'float'>\n",
      "True <class 'str'>\n"
     ]
    }
   ],
   "source": [
    "#Implicit Type Conversion:\n",
    "x = 10 / 3  # Implicit conversion to float, result is 3.3333333333333335\n",
    "num_str = \"123\"\n",
    "num = int(num_str)  # Implicit conversion to integer, num becomes 123\n",
    "#Explicit Type Conversion (Type Casting):\n",
    "# String to integer\n",
    "age_str = \"25\"\n",
    "age = int(age_str)\n",
    "print(age, type(age))  # Output: 25 <class 'int'>\n",
    "\n",
    "# Float to integer (truncation)\n",
    "pi = 3.14159\n",
    "pi_int = int(pi)\n",
    "print(pi_int, type(pi_int))  # Output: 3 <class 'int'> (decimal part lost)\n",
    "\n",
    "# Integer to float\n",
    "num = 10\n",
    "num_float = float(num)\n",
    "print(num_float, type(num_float))  # Output: 10.0 <class 'float'>\n",
    "\n",
    "# Boolean conversion\n",
    "is_true = True\n",
    "is_true_str = str(is_true)\n",
    "print(is_true_str, type(is_true_str))  # Output: True <class 'str'>\n"
   ]
  },
  {
   "cell_type": "raw",
   "id": "fe8578c6-1ee2-4f6f-94d7-7dfb63615d3d",
   "metadata": {},
   "source": [
    "Q4.How do you write and execute a python script from the command line?"
   ]
  },
  {
   "cell_type": "markdown",
   "id": "bbface59-8d14-4c6d-9c74-4393e295eab8",
   "metadata": {},
   "source": [
    "1. Write Your Python Script:\n",
    "\n",
    "Create a new text file using a text editor of your choice (e.g., Notepad, Sublime Text, Visual Studio Code).\n",
    "Save the file with a .py extension (e.g., my_script.py).\n",
    "Write your Python code within the file. Here's a simple example:\n",
    "Python\n",
    "print(\"Hello, world!\")\n",
    "\n",
    "# Add some calculations or other operations here\n",
    "Use code with caution.\n",
    "content_copy\n",
    "2. Open the Command Line:\n",
    "\n",
    "Windows:\n",
    "Press the Windows key + R to open the Run dialog.\n",
    "Type cmd and press Enter.\n",
    "macOS/Linux:\n",
    "Open a terminal window. You can usually find this application in the Utilities folder (macOS) or by searching for \"Terminal\" in your applications list.\n",
    "3. Navigate to the Script Directory:\n",
    "\n",
    "Use the cd (change directory) command to navigate to the directory where you saved your Python script. For example, if you saved it on your desktop:\n",
    "\n",
    "Bash\n",
    "cd Desktop\n",
    "Use code with caution.\n",
    "content_copy\n",
    "You can verify the current directory using the pwd (print working directory) command.\n",
    "\n",
    "4. Execute the Script:\n",
    "\n",
    "There are two ways to run the Python script:\n",
    "\n",
    "a) Using the python command:\n",
    "\n",
    "Bash\n",
    "python my_script.py\n",
    "Use code with caution.\n",
    "content_copy\n",
    "Replace my_script.py with the actual filename of your script.\n",
    "\n",
    "b) Using the Shebang Line (Optional):\n",
    "\n",
    "Add a shebang line at the very beginning of your script (first line). This tells the system which Python interpreter to use when executing the script directly.\n",
    "\n",
    "Example shebang line:\n",
    "\n",
    "Python\n",
    "#!/usr/bin/env python\n",
    "Use code with caution.\n",
    "content_copy\n",
    "Once you have the shebang line, make the script executable using the chmod command:\n",
    "\n",
    "Bash\n",
    "chmod +x my_script.py\n",
    "Use code with caution.\n",
    "content_copy\n",
    "Now you can run the script directly from the command line by typing its filename:\n",
    "\n",
    "Bash\n",
    "./my_script.py\n",
    "Use code with caution.\n",
    "content_copy\n",
    "Running the Script:\n",
    "\n",
    "After executing the script using one of the methods above, you should see the output of your Python code printed in the terminal."
   ]
  },
  {
   "cell_type": "raw",
   "id": "1399e853-0c86-4456-9ee8-7f8a0c108c43",
   "metadata": {},
   "source": [
    "Q5.Given a listmy_list=[1,2,3,4,5],write the code to sclice the list and batain the sub-lisst[2,3]."
   ]
  },
  {
   "cell_type": "code",
   "execution_count": 5,
   "id": "a093a8e5-f337-46d8-af02-2398703773c1",
   "metadata": {},
   "outputs": [
    {
     "name": "stdout",
     "output_type": "stream",
     "text": [
      "[2, 3]\n"
     ]
    }
   ],
   "source": [
    "my_list = [1, 2, 3, 4, 5]\n",
    "sub_list = my_list[1:3]  # Slice from index 2 (inclusive) to 4 (exclusive)\n",
    "\n",
    "print(sub_list)  # Output: [2, 3]\n"
   ]
  },
  {
   "cell_type": "raw",
   "id": "c54cee16-4d18-4452-bd20-8d8388149fa4",
   "metadata": {},
   "source": [
    "Q6.What is a complex number in mathematics, and how is it represented in python?"
   ]
  },
  {
   "cell_type": "markdown",
   "id": "e5981696-29e3-4188-b673-ee48ab1663de",
   "metadata": {},
   "source": [
    "In mathematics, a complex number is a number of the form z = a + bi, where:\n",
    "\n",
    "a is a real number (the real part of the complex number).\n",
    "b is a real number (the imaginary part of the complex number).\n",
    "i is the imaginary unit, defined as the square root of -1 (i^2 = -1).\n",
    "Complex numbers are used to represent quantities that cannot be expressed using real numbers alone. They have numerous applications in various fields, including:\n",
    "\n",
    "Electrical engineering (AC circuits, signal analysis)\n",
    "Quantum mechanics (wave functions)\n",
    "Fluid dynamics (compressible flow)\n",
    "Many other areas of physics and engineering"
   ]
  },
  {
   "cell_type": "code",
   "execution_count": null,
   "id": "3791edbd-cf1e-4b5f-91aa-38fe79b5f12b",
   "metadata": {},
   "outputs": [],
   "source": []
  },
  {
   "cell_type": "code",
   "execution_count": null,
   "id": "5804c564-95ce-4268-b62e-b56c8c4fe1b3",
   "metadata": {},
   "outputs": [],
   "source": [
    "\n",
    "z = complex(a, b)\n",
    "Use code with caution.\n",
    "content_copy\n",
    "\n",
    "a is the real part of the complex number.\n",
    "b is the imaginary part of the complex number.\n",
    "If you don't specify the imaginary part (b), it defaults to 0, creating a pure real number.\n",
    "\n",
    "Here's an example:\n",
    "\n",
    "Python\n",
    "z1 = complex(3, 4)  # z1 = 3 + 4i\n",
    "z2 = complex(2)      # z2 = 2 + 0i (since b is not specified)\n",
    "Use code with caution.\n",
    "content_copy\n",
    "Accessing Real and Imaginary Parts:\n",
    "\n",
    "Python offers functions to access the real and imaginary parts of a complex number:\n",
    "\n",
    "z.real: Returns the real part of z.\n",
    "z.imag: Returns the imaginary part of z.\n",
    "For example:\n",
    "\n",
    "Python\n",
    "print(z1.real, z1.imag)  # Output: 3 4\n",
    "print(z2.real, z2.imag)  # Output: 2 0\n",
    "Use code with caution.\n",
    "content_copy\n",
    "Complex Number Literals:\n",
    "\n",
    "Python allows you to create complex numbers directly using literals. It recognizes both j and J as the imaginary unit:\n",
    "\n",
    "Python\n",
    "z3 = 1 + 2j  # Equivalent to complex(1, 2)\n",
    "z4 = 5 - 3J  # Equivalent to complex(5, -3)"
   ]
  },
  {
   "cell_type": "code",
   "execution_count": null,
   "id": "61d9558a-1e75-4ce0-b68e-d72b6b7c3824",
   "metadata": {},
   "outputs": [],
   "source": []
  },
  {
   "cell_type": "raw",
   "id": "558cd43e-9504-49fb-92d9-1ad7b3b4b268",
   "metadata": {},
   "source": [
    "Q7.What is the correct way to declare a variable named age and assign the value 25 to it?"
   ]
  },
  {
   "cell_type": "code",
   "execution_count": null,
   "id": "3d4a5e8c-2b92-4379-9cee-105b0544eb2e",
   "metadata": {},
   "outputs": [],
   "source": [
    "age = 25\n"
   ]
  },
  {
   "cell_type": "markdown",
   "id": "53092262-8ad9-4e35-b70f-0e7c30c69955",
   "metadata": {},
   "source": [
    "This code creates a variable named age and assigns the integer value 25 to it.\n",
    "\n",
    "Here's a breakdown:\n",
    "\n",
    "age: This is the name you choose for your variable. It should be descriptive and follow Python's naming conventions (letters, numbers, and underscores, starting with a letter).\n",
    "=: This is the assignment operator. It assigns the value on the right (in this case, 25) to the variable on the left (age).\n",
    "25: This is the value being assigned to the variable. It can be a number, string, boolean, or any other valid data type in Python."
   ]
  },
  {
   "cell_type": "raw",
   "id": "063461b8-60e9-461e-89e0-700da293c7b6",
   "metadata": {},
   "source": [
    "Q8.Declare a variable named price and assign the value 9.99 to it.What data type does this variable belong to?"
   ]
  },
  {
   "cell_type": "code",
   "execution_count": 7,
   "id": "b5716807-ff06-4394-b5eb-fa83c0f449bd",
   "metadata": {},
   "outputs": [
    {
     "name": "stdout",
     "output_type": "stream",
     "text": [
      "<class 'float'>\n"
     ]
    }
   ],
   "source": [
    "price = 9.99\n",
    "print(type(price))\n"
   ]
  },
  {
   "cell_type": "raw",
   "id": "b827fc6e-ec49-4afc-82ef-b1d10acb8812",
   "metadata": {},
   "source": [
    "Q9.Create a variable named name and assign your full name to it as a string. How would you print the value of this variable?"
   ]
  },
  {
   "cell_type": "code",
   "execution_count": 8,
   "id": "a34a7121-77a1-432b-801a-46b2b75d1ed5",
   "metadata": {},
   "outputs": [
    {
     "name": "stdout",
     "output_type": "stream",
     "text": [
      "Your Full Name\n",
      "My name is Your Full Name\n"
     ]
    }
   ],
   "source": [
    "#1. Creating the variable and printing its value:\n",
    "name = \"Your Full Name\"  # Replace \"Your Full Name\" with your actual full name\n",
    "print(name)\n",
    "#2. Printing the variable directly during assignment (f-string method):\n",
    "name = \"Your Full Name\"  # Replace \"Your Full Name\" with your actual full name\n",
    "print(f\"My name is {name}\")\n",
    "\n"
   ]
  },
  {
   "cell_type": "code",
   "execution_count": null,
   "id": "36ce102e-1edd-4a84-8593-6a36d4476915",
   "metadata": {},
   "outputs": [],
   "source": []
  },
  {
   "cell_type": "raw",
   "id": "1e8468e4-72e7-4c95-bf67-e3294d057ad7",
   "metadata": {},
   "source": [
    "Q10.Given the string\"Hello,World!\",extract the substring\"world\"."
   ]
  },
  {
   "cell_type": "code",
   "execution_count": 11,
   "id": "dc9cc143-0346-4682-ae44-657af2cedfec",
   "metadata": {},
   "outputs": [
    {
     "name": "stdout",
     "output_type": "stream",
     "text": [
      "World\n"
     ]
    }
   ],
   "source": [
    "original_string = \"Hello,World!\"\n",
    "substring = original_string[6:11]  # Slice from index 7 (inclusive) to 12 (exclusive)\n",
    "\n",
    "print(substring)  # Output: world\n"
   ]
  },
  {
   "cell_type": "raw",
   "id": "6556346d-48f3-4c23-b387-bee17b7a39df",
   "metadata": {},
   "source": [
    "Q11. Create a variable named\"is_student\" and assign it a boolean value indicating whether you are currently a student or not."
   ]
  },
  {
   "cell_type": "code",
   "execution_count": null,
   "id": "f911c1c5-d5f7-44b8-b6e6-2add1389f4cd",
   "metadata": {},
   "outputs": [],
   "source": []
  }
 ],
 "metadata": {
  "kernelspec": {
   "display_name": "Python 3 (ipykernel)",
   "language": "python",
   "name": "python3"
  },
  "language_info": {
   "codemirror_mode": {
    "name": "ipython",
    "version": 3
   },
   "file_extension": ".py",
   "mimetype": "text/x-python",
   "name": "python",
   "nbconvert_exporter": "python",
   "pygments_lexer": "ipython3",
   "version": "3.10.8"
  }
 },
 "nbformat": 4,
 "nbformat_minor": 5
}
