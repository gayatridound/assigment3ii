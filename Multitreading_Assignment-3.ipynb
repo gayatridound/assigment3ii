{
 "cells": [
  {
   "cell_type": "raw",
   "id": "b176021e-6ffb-45c5-b491-7e5405fb183e",
   "metadata": {},
   "source": [
    "Q1.What is multithreading in python?why is it  used?Nme the module used to hnadle threads in python."
   ]
  },
  {
   "cell_type": "markdown",
   "id": "75b9528d-982e-4399-b822-c868cad39776",
   "metadata": {},
   "source": [
    "What is Multithreading?\n",
    "Multithreading is a technique where multiple threads of execution exist within a single process. These threads share the same memory space, which can improve performance in certain scenarios.\n",
    "\n",
    "Why Use Multithreading?\n",
    "Improved performance: Can speed up tasks that involve I/O operations (like network requests or file I/O) by allowing other threads to run while waiting for these operations to complete.\n",
    "Better responsiveness: Can make applications feel more responsive by handling multiple tasks concurrently.\n",
    "Simplified programming: Can sometimes simplify code structure by breaking down tasks into smaller, independent threads.\n",
    "Module for Handling Threads\n",
    "The threading module is the primary module used for multithreading in Python. It provides classes and functions for creating, starting, and managing threads."
   ]
  },
  {
   "cell_type": "raw",
   "id": "84243c2a-e22c-4cbe-9910-bb5d7816614c",
   "metadata": {},
   "source": [
    "Q2.Why threading module used?Write the use of the following functions:\n",
    "    1.activeCount()\n",
    "    2.currentThread()\n",
    "    3.enumerate()"
   ]
  },
  {
   "cell_type": "markdown",
   "id": "7d204111-c016-497f-9385-ad9557fcf3d1",
   "metadata": {},
   "source": [
    "The threading module in Python is primarily used to:\n",
    "\n",
    "Create and manage threads\n",
    "Synchronize thread operations (using locks, semaphores, etc.)\n",
    "Provide a higher-level abstraction for thread management compared to the lower-level thread module.\n",
    "Functions:\n",
    "activeCount()\n",
    "\n",
    "Returns the approximate number of currently active threads.\n",
    "Useful for monitoring thread activity and resource utilization.\n",
    "currentThread()\n",
    "\n",
    "Returns the current thread object.\n",
    "Used to identify the currently executing thread or to access thread-specific data.\n",
    "enumerate()\n",
    "\n",
    "Returns a list of all currently active thread objects.\n",
    "Useful for getting information about all running threads, such as their names or state"
   ]
  },
  {
   "cell_type": "raw",
   "id": "2b0a9a26-cac7-4986-9bb1-744b53cef598",
   "metadata": {},
   "source": [
    "Q3.Explain the following functions:\n",
    "    1.run()\n",
    "    2.start()\n",
    "    3.join()\n",
    "    4.isAlibe()"
   ]
  },
  {
   "cell_type": "markdown",
   "id": "2615aebf-08d2-42e8-8dda-292ce7f58609",
   "metadata": {},
   "source": [
    "Thread Functions\n",
    "1. run()\n",
    "The run() method is the entry point for a thread's execution.\n",
    "It contains the code that the thread will execute when it starts.\n",
    "You override this method in your custom thread class to define the thread's behavior.\n",
    "2. start()\n",
    "Starts the thread's activity.\n",
    "This method causes the run() method to be invoked in a separate thread of execution.\n",
    "You should always call start() to initiate a thread, not run().\n",
    "3. join()\n",
    "Waits for the thread to terminate.\n",
    "The current thread will block until the specified thread ends.\n",
    "Useful for ensuring that one thread finishes before another proceeds.\n",
    "4. isAlive()\n",
    "Returns True if the thread is still running, False otherwise.\n",
    "Can be used to check the status of a thread without blocking the current thread."
   ]
  },
  {
   "cell_type": "raw",
   "id": "f9a2f43b-ae1a-4a5d-8ba8-c8a0f4b9532d",
   "metadata": {},
   "source": [
    "Q4.Write a python program to create two threads. thread one must print the list of squares and thread two must print the list of cubes "
   ]
  },
  {
   "cell_type": "code",
   "execution_count": null,
   "id": "db3274ba-ad2c-4393-ae27-46361ad29b2f",
   "metadata": {},
   "outputs": [],
   "source": [
    "import threading\n",
    "\n",
    "def print_squares(n):\n",
    "  for i in range(1, n+1):\n",
    "    print(\"Square:\", i*i)\n",
    "\n",
    "def print_cubes(n):\n",
    "  for i in range(1, n+1):\n",
    "    print(\"Cube:\", i*i*i)\n",
    "\n",
    "if __name__ == \"__main__\":\n",
    "  n = int(input(\"Enter a number: \"))\n",
    "  \n",
    "  # Create threads\n",
    "  t1 = threading.Thread(target=print_squares, args=(n,))\n",
    "  t2 = threading.Thread(target=print_cubes, args=(n,))\n",
    "\n",
    "  # Start threads\n",
    "  t1.start()\n",
    "  t2.start()\n",
    "\n",
    "  # Wait for threads to finish\n",
    "  t1.join()\n",
    "  t2.join()\n"
   ]
  },
  {
   "cell_type": "raw",
   "id": "6013193e-8ca6-4431-ba3c-c5b20ce9794d",
   "metadata": {},
   "source": [
    "Q5.State advantages and disadvantage of multithreading."
   ]
  },
  {
   "cell_type": "markdown",
   "id": "06ea3adc-dea0-4c3c-93ae-bc5c5791d106",
   "metadata": {},
   "source": [
    "Advantages of Multithreading\n",
    "\n",
    "Improved performance: Can speed up tasks, especially I/O bound operations.\n",
    "Better responsiveness: Prevents applications from freezing during long operations.\n",
    "Simplified programming: Can break down complex tasks into smaller, manageable units.\n",
    "Efficient resource utilization: Can make better use of CPU and system resources.\n",
    "\n",
    "Disadvantages of Multithreading\n",
    "\n",
    "Complexity: Can be challenging to write, debug, and maintain multithreaded code.\n",
    "Synchronization issues: Requires careful management to prevent race conditions and deadlocks.\n",
    "Overhead: Thread creation and management can introduce overhead.\n",
    "Limited parallelism in Python: Due to the Global Interpreter Lock (GIL), multithreading might not offer significant performance gains for CPU-bound tasks."
   ]
  },
  {
   "cell_type": "raw",
   "id": "4b4c1b5d-75de-44a4-859a-bd48d3ece83e",
   "metadata": {},
   "source": [
    "Q6.Explain deadlocks and race conditions."
   ]
  },
  {
   "cell_type": "markdown",
   "id": "9810ddc5-855b-47bf-bea0-d7b585b846a7",
   "metadata": {},
   "source": [
    "Deadlocks\n",
    "A deadlock occurs when two or more threads are blocked, each waiting for the other to release a resource. This creates a circular dependency where no thread can proceed, resulting in a standstill.\n",
    "\n",
    "Example:\n",
    "\n",
    "Thread A acquires lock on resource X.\n",
    "Thread B acquires lock on resource Y.\n",
    "Thread A tries to acquire lock on Y but it's held by B.\n",
    "Thread B tries to acquire lock on X but it's held by A.\n",
    "Both threads are now blocked, waiting for each other.\n",
    "Race Conditions\n",
    "A race condition happens when multiple threads access shared data concurrently, and the outcome depends on the unpredictable order of execution. This can lead to inconsistent results and errors.\n",
    "\n",
    "Example:\n",
    "\n",
    "Two threads are incrementing a shared counter variable.\n",
    "Both threads read the current value of the counter.\n",
    "Both threads increment the value in their local copy.\n",
    "Both threads write the incremented value back to the shared counter.\n",
    "The final value of the counter might not be the expected sum of the increments due to the unpredictable order of writes.\n",
    "Prevention:\n",
    "To avoid deadlocks and race conditions, it's crucial to use proper synchronization mechanisms like locks, semaphores, and condition variables. Careful design and testing are also essential."
   ]
  },
  {
   "cell_type": "code",
   "execution_count": null,
   "id": "4bdfd867-1c92-4f06-b0b6-d1fa98af8d00",
   "metadata": {},
   "outputs": [],
   "source": []
  }
 ],
 "metadata": {
  "kernelspec": {
   "display_name": "Python 3 (ipykernel)",
   "language": "python",
   "name": "python3"
  },
  "language_info": {
   "codemirror_mode": {
    "name": "ipython",
    "version": 3
   },
   "file_extension": ".py",
   "mimetype": "text/x-python",
   "name": "python",
   "nbconvert_exporter": "python",
   "pygments_lexer": "ipython3",
   "version": "3.10.8"
  }
 },
 "nbformat": 4,
 "nbformat_minor": 5
}
