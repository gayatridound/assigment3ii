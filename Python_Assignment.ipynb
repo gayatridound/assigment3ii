{
 "cells": [
  {
   "cell_type": "raw",
   "id": "01d385ba-7476-4d1d-9eb1-94a4b4a73615",
   "metadata": {},
   "source": [
    "Q1.Explain Class and Object with respect to Ojcet-Oriented programing.Give a sutable example."
   ]
  },
  {
   "cell_type": "markdown",
   "id": "e3e8f2e9-4a56-44cf-9faf-b8293b325eb5",
   "metadata": {},
   "source": [
    "In Object-Oriented Programming (OOP), classes and objects are fundamental concepts that model the real world. Here's a breakdown of each:\n",
    "\n",
    "Class:\n",
    "\n",
    "A class is a blueprint or template that defines the properties (attributes) and behaviors (methods) of a particular kind of object.\n",
    "It acts as a reusable specification for creating objects.\n",
    "A class itself doesn't hold any data or implement any functionality; it just defines the structure.\n",
    "Object:\n",
    "\n",
    "An object is an instance of a class. It's a concrete entity that has attributes (data) with specific values and methods (functions) that operate on that data.\n",
    "When you create an object from a class, you're essentially creating a copy of the class template with its own unique set of data values.\n",
    "Objects can interact with each other by calling each other's methods.\n",
    "Analogy:\n",
    "\n",
    "Imagine a class as a cookie cutter used to make cookies. The cookie cutter (class) defines the shape and basic properties of the cookie (object). You can use the cookie cutter (class) to create many individual cookies (objects) with the same shape, but each cookie might have different ingredients or decorations (attributes) that make it unique."
   ]
  },
  {
   "cell_type": "code",
   "execution_count": 1,
   "id": "707f9598-b682-402a-bb51-eae96f0caa86",
   "metadata": {},
   "outputs": [],
   "source": [
    "class Car:\n",
    "  def __init__(self, make, model, year):  # Constructor (special method for initializing objects)\n",
    "    self.make = make  # Attribute (data)\n",
    "    self.model = model  # Attribute (data)\n",
    "    self.year = year    # Attribute (data)\n",
    "\n",
    "  def accelerate(self):  # Method (function)\n",
    "    print(f\"The {self.make} {self.model} is accelerating!\")\n",
    "\n",
    "  def brake(self):  # Method (function)\n",
    "    print(f\"The {self.make} {self.model} is braking!\")\n"
   ]
  },
  {
   "cell_type": "code",
   "execution_count": null,
   "id": "acc9b2c9-4e89-4f1c-8416-c772b5135cfa",
   "metadata": {},
   "outputs": [],
   "source": []
  },
  {
   "cell_type": "raw",
   "id": "51a4472f-e515-4d49-9b8c-f1f94ab6aab9",
   "metadata": {},
   "source": [
    "Q2.Name the four pillars of OOPs."
   ]
  },
  {
   "cell_type": "markdown",
   "id": "5d636d7b-36f5-427e-8c2d-c55f01f7f0c9",
   "metadata": {},
   "source": [
    "he four pillars of Object-Oriented Programming (OOP) are:\n",
    "\n",
    "Encapsulation:\n",
    "\n",
    "Encapsulation refers to bundling data (attributes) and the methods that operate on that data together within a single unit (class).\n",
    "It promotes data hiding by restricting direct access to attributes and controlling how data is manipulated within the class.\n",
    "Inheritance:\n",
    "\n",
    "Inheritance allows you to create new classes (subclasses) that inherit properties and behaviors from existing classes (superclasses).\n",
    "This promotes code reusability and enables the creation of class hierarchies with specialized functionalities.\n",
    "Polymorphism:\n",
    "\n",
    "Polymorphism allows objects of different classes (but potentially sharing a common ancestor) to respond differently to the same method call.\n",
    "This is achieved through techniques like method overriding and duck typing.\n",
    "Abstraction:\n",
    "\n",
    "Abstraction focuses on providing a simplified interface to hide the underlying implementation details.\n",
    "It allows users to interact with objects without worrying about the complexities of how they work internally."
   ]
  },
  {
   "cell_type": "raw",
   "id": "0eddcc46-7ff9-4bb7-a28e-d8515edf28f9",
   "metadata": {},
   "source": [
    "Q3.Explain Why the__init__()function is used.Give a suitable example."
   ]
  },
  {
   "cell_type": "markdown",
   "id": "b02481f6-19da-495e-95cc-7e0a0b6bbf12",
   "metadata": {},
   "source": [
    "The __init__() function, also known as the constructor, is a special method used in Python classes to initialize objects of that class. It's called automatically whenever you create a new object from the class. Here's why it's important:\n",
    "\n",
    "Purpose:\n",
    "\n",
    "The __init__() function allows you to define the initial state of an object when it's created. This includes assigning values to the object's attributes (data).\n",
    "It provides a controlled way to set up an object with the necessary data it needs to function properly.\n",
    "Without __init__(), objects of a class wouldn't have any initial values for their attributes, potentially leading to errors or unexpected behavior."
   ]
  },
  {
   "cell_type": "code",
   "execution_count": 2,
   "id": "2afbf117-8582-4760-92bf-82d67940a4f9",
   "metadata": {},
   "outputs": [
    {
     "name": "stdout",
     "output_type": "stream",
     "text": [
      "Title: The Hitchhiker's Guide to the Galaxy, Author: Douglas Adams, Year: 1979\n"
     ]
    }
   ],
   "source": [
    "class Book:\n",
    "  def __init__(self, title, author, year):\n",
    "    self.title = title\n",
    "    self.author = author\n",
    "    self.year = year\n",
    "\n",
    "  def get_info(self):\n",
    "    return f\"Title: {self.title}, Author: {self.author}, Year: {self.year}\"\n",
    "\n",
    "# Create a Book object with initial values\n",
    "my_book = Book(\"The Hitchhiker's Guide to the Galaxy\", \"Douglas Adams\", 1979)\n",
    "\n",
    "# Access object attributes and method\n",
    "print(my_book.get_info())  # Output: Title: The Hitchhiker's Guide to the Galaxy, Author: Douglas Adams, Year: 1979\n"
   ]
  },
  {
   "cell_type": "code",
   "execution_count": null,
   "id": "79ef3d69-3ca0-4e10-b65f-f891ad8007c6",
   "metadata": {},
   "outputs": [],
   "source": []
  },
  {
   "cell_type": "raw",
   "id": "36b38e74-f6d1-43f8-9816-2259ebaa5d61",
   "metadata": {},
   "source": [
    "Q4.Why self is used in OOPs?"
   ]
  },
  {
   "cell_type": "markdown",
   "id": "a4f63a2e-51f5-43e0-bae4-19052ecf9f97",
   "metadata": {},
   "source": [
    "In Object-Oriented Programming (OOP), the self parameter is a fundamental concept used within methods (functions) defined in classes. Here's why it's important:\n",
    "\n",
    "Purpose:\n",
    "\n",
    "The self parameter refers to the current object instance itself within a class method.\n",
    "It allows methods to access and modify the attributes (data) of the specific object they're operating on.\n",
    "Without self, methods wouldn't be able to distinguish between different objects of the same class, and they wouldn't be able to manipulate the data associated with those objects."
   ]
  },
  {
   "cell_type": "code",
   "execution_count": 3,
   "id": "599edbeb-cc29-45e4-9708-f0a1a01e4fd7",
   "metadata": {},
   "outputs": [],
   "source": [
    "class Car:\n",
    "  def __init__(self, make, model, year):\n",
    "    self.make = make  # Attribute (data)\n",
    "    self.model = model  # Attribute (data)\n",
    "    self.year = year    # Attribute (data)\n",
    "\n",
    "  def accelerate(self):  # Method\n",
    "    print(f\"The {self.make} {self.model} is accelerating!\")\n",
    "\n",
    "  def brake(self):  # Method\n",
    "    print(f\"The {self.make} {self.model} is braking!\")\n"
   ]
  },
  {
   "cell_type": "code",
   "execution_count": null,
   "id": "9ad72e62-0e0f-4d7e-8ab9-40eacdcb28a2",
   "metadata": {},
   "outputs": [],
   "source": [
    "Q5.What is inheritance ?Give an example for each type of inheritance."
   ]
  },
  {
   "cell_type": "markdown",
   "id": "224b8c78-a37f-4264-a737-ce6acbe850fc",
   "metadata": {},
   "source": [
    "1. Single Inheritance:\n",
    "In single inheritance, a subclass inherits from one parent class. This is the most common and straightforward type of inheritance.\n",
    "\n",
    "2. Multilevel Inheritance:\n",
    "In multilevel inheritance, a subclass inherits from another subclass, which in turn inherits from a parent class. This creates a chain of inheritance.\n",
    "\n",
    "3. Multiple Inheritance:\n",
    "In multiple inheritance, a subclass inherits from multiple parent classes. This can be more complex to manage but can be useful in certain scenarios.\n"
   ]
  },
  {
   "cell_type": "code",
   "execution_count": null,
   "id": "56e1cde9-5897-4382-a02a-dbb098ba8d44",
   "metadata": {},
   "outputs": [],
   "source": [
    "#1:\n",
    "class Animal:\n",
    "  def __init__(self, name):\n",
    "    self.name = name\n",
    "  def make_sound(self):\n",
    "    print(\"Generic animal sound\")\n",
    "class Dog(Animal):\n",
    "  def __init__(self, name, breed):\n",
    "    super().__init__(name)  # Call the parent class constructor\n",
    "    self.breed = breed\n",
    "  def make_sound(self):\n",
    "    print(f\"{self.name} (the dog) barks!\")\n",
    "# Create an Animal object\n",
    "animal = Animal(\"Generic Animal\")\n",
    "animal.make_sound()  # Output: Generic animal sound\n",
    "# Create a Dog object\n",
    "dog = Dog(\"Fido\", \"Labrador\")\n",
    "dog.make_sound()  # Output: Fido (the dog) barks!\n",
    "\n",
    "\n",
    "#2:\n",
    "class Vehicle:\n",
    "  def __init__(self, make, model):\n",
    "    self.make = make\n",
    "    self.model = model\n",
    "\n",
    "  def move(self):\n",
    "    print(f\"The {self.make} {self.model} is moving.\")\n",
    "\n",
    "class Car(Vehicle):\n",
    "  def __init__(self, make, model, year):\n",
    "    super().__init__(make, model)\n",
    "    self.year = year\n",
    "\n",
    "class ElectricCar(Car):\n",
    "  def __init__(self, make, model, year, battery_range):\n",
    "    super().__init__(make, model, year)\n",
    "    self.battery_range = battery_range\n",
    "\n",
    "  def move(self):\n",
    "    print(f\"The {self.make} {self.model} (electric car) is moving silently.\")\n",
    "\n",
    "# Create an ElectricCar object\n",
    "electric_car = ElectricCar(\"Tesla\", \"Model S\", 2023, 400)\n",
    "electric_car.move()  # Output: The Tesla Model S (electric car) is moving silently.\n",
    "\n",
    "\n",
    "#3:\n"
   ]
  }
 ],
 "metadata": {
  "kernelspec": {
   "display_name": "Python 3 (ipykernel)",
   "language": "python",
   "name": "python3"
  },
  "language_info": {
   "codemirror_mode": {
    "name": "ipython",
    "version": 3
   },
   "file_extension": ".py",
   "mimetype": "text/x-python",
   "name": "python",
   "nbconvert_exporter": "python",
   "pygments_lexer": "ipython3",
   "version": "3.10.8"
  }
 },
 "nbformat": 4,
 "nbformat_minor": 5
}
