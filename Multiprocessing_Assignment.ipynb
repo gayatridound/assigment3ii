{
 "cells": [
  {
   "cell_type": "raw",
   "id": "635d6c94-0f8b-4e67-9e2c-49c696e338a2",
   "metadata": {},
   "source": [
    "Q1.What is Multiprocessing in python ?why is it useful?"
   ]
  },
  {
   "cell_type": "markdown",
   "id": "612f610b-be02-46de-a43e-db5c54a71942",
   "metadata": {},
   "source": [
    "What is Multiprocessing?\n",
    "Multiprocessing in Python refers to the ability to execute multiple processes concurrently. Each process runs independently with its own memory space. This is different from multithreading, where multiple threads share the same memory space within a single process.\n",
    "\n",
    "Why is it Useful?\n",
    "Overcomes the GIL: Python's Global Interpreter Lock (GIL) limits the parallelism of threads in CPython. Multiprocessing circumvents this by creating separate processes, each with its own GIL.\n",
    "Leverages multiple cores: It effectively utilizes multi-core processors, allowing tasks to be distributed across different cores for improved performance.\n",
    "Handles CPU-bound tasks: Ideal for computationally intensive tasks that can benefit from parallel execution.\n",
    "Isolation: Processes have independent memory spaces, reducing the risk of data corruption and race conditions."
   ]
  },
  {
   "cell_type": "code",
   "execution_count": null,
   "id": "939a7c3b-4bf7-4c9a-ad09-36ce7e92615a",
   "metadata": {},
   "outputs": [],
   "source": []
  },
  {
   "cell_type": "raw",
   "id": "4b62e044-2645-4062-81ff-362da738762e",
   "metadata": {},
   "source": [
    "Q2.What are difference between multiprocessing and multithreading?"
   ]
  },
  {
   "cell_type": "markdown",
   "id": "a56395e9-7289-4051-a7f9-6653b6a04962",
   "metadata": {},
   "source": [
    "Multiprocessing\n",
    "\n",
    "Separate processes: Each process has its own memory space, independent of others.\n",
    "Overcomes GIL: Not affected by Python's Global Interpreter Lock, allowing true parallelism for CPU-bound tasks.\n",
    "Better for CPU-bound tasks: Ideal for computationally intensive operations that can benefit from multiple cores.\n",
    "Slower communication: Inter-process communication (IPC) is generally slower than inter-thread communication.\n",
    "Resource intensive: Creating and managing multiple processes can consume more system resources.\n",
    "\n",
    "Multithreading\n",
    "\n",
    "Shared memory: Threads within a process share the same memory space.\n",
    "Affected by GIL: In Python, the Global Interpreter Lock limits the parallelism of threads for CPU-bound tasks.\n",
    "Better for I/O-bound tasks: Well-suited for tasks that involve frequent waiting, such as network requests or file operations.\n",
    "Faster communication: Threads can communicate more efficiently due to shared memory.\n",
    "Less resource intensive: Generally lighter-weight than processes."
   ]
  },
  {
   "cell_type": "code",
   "execution_count": null,
   "id": "a0014c04-d404-4606-8170-9349d3945acf",
   "metadata": {},
   "outputs": [],
   "source": []
  },
  {
   "cell_type": "raw",
   "id": "88f65d5b-d7e3-40f5-8970-d0497ea44913",
   "metadata": {},
   "source": [
    "Q3.Write a python code to create a process using the multiprocessing module."
   ]
  },
  {
   "cell_type": "code",
   "execution_count": null,
   "id": "35395d6f-eccc-45ec-b540-72ebd23163f6",
   "metadata": {},
   "outputs": [],
   "source": [
    "import multiprocessing\n",
    "\n",
    "def square(n):\n",
    "    \"\"\"Calculates the square of a number.\"\"\"\n",
    "    return n * n\n",
    "\n",
    "if __name__ == \"__main__\":\n",
    "    # Create a process\n",
    "    p = multiprocessing.Process(target=square, args=(5,))\n",
    "\n",
    "    # Start the process\n",
    "    p.start()\n",
    "\n",
    "    # Wait for the process to finish\n",
    "    p.join()\n",
    "\n",
    "    print(\"Process finished.\")\n"
   ]
  },
  {
   "cell_type": "raw",
   "id": "983ccd17-f368-435f-b3fb-da070449eb3a",
   "metadata": {},
   "source": [
    "Q4.What is multiprocessing pool in python? Why isit used."
   ]
  },
  {
   "cell_type": "markdown",
   "id": "197f69be-ec8a-440b-b43c-e49535bed6b3",
   "metadata": {},
   "source": [
    "Multiprocessing Pool in Python\n",
    "A multiprocessing pool is a mechanism in Python that manages a group of worker processes. It provides a convenient way to distribute tasks across multiple cores or CPUs, improving performance for CPU-bound operations.\n",
    "\n",
    "Why Use a Multiprocessing Pool?\n",
    "Efficient management: Handles the creation, management, and termination of worker processes automatically.\n",
    "Simplified usage: Provides a higher-level abstraction for parallel processing, making it easier to use than manually creating processes.\n",
    "Improved performance: By distributing tasks across multiple processes, it can significantly speed up computations.\n",
    "Automatic load balancing: The pool often handles load balancing, ensuring efficient utilization of available resources."
   ]
  },
  {
   "cell_type": "raw",
   "id": "2dbdd4f6-1224-49e3-9ffa-8884b9bb9f7e",
   "metadata": {},
   "source": [
    "Q5How can we create a pool of worker processes in python using the multi peocessing module?"
   ]
  },
  {
   "cell_type": "code",
   "execution_count": null,
   "id": "6fb8b45b-6f80-4444-914b-003f8e1a9d50",
   "metadata": {},
   "outputs": [],
   "source": [
    "import multiprocessing\n",
    "\n",
    "def square(n):\n",
    "    return n * n\n",
    "\n",
    "if __name__ == \"__main__\":\n",
    "    with multiprocessing.Pool(processes=4) as pool:\n",
    "        results = pool.map(square, range(10))\n",
    "    print(results)\n"
   ]
  },
  {
   "cell_type": "raw",
   "id": "a1a0f9db-dfa6-4d27-803c-aed8943c1343",
   "metadata": {},
   "source": [
    "Q6.Write a python program to create 4 processes,each procesess should print a different number using the multiprocessing module in python."
   ]
  },
  {
   "cell_type": "code",
   "execution_count": null,
   "id": "6d08e3aa-6acf-4f0d-b466-703058ab57a5",
   "metadata": {},
   "outputs": [],
   "source": [
    "import multiprocessing\n",
    "\n",
    "def print_number(number):\n",
    "    print(f\"Process {number}: Printing number {number}\")\n",
    "\n",
    "if __name__ == \"__main__\":\n",
    "    processes = []\n",
    "    for i in range(4):\n",
    "        process = multiprocessing.Process(target=print_number, args=(i,))\n",
    "        processes.append(process)\n",
    "        process.start()\n",
    "\n",
    "    for process in processes:\n",
    "        process.join()\n",
    "\n",
    "        "
   ]
  },
  {
   "cell_type": "code",
   "execution_count": null,
   "id": "4199e0e4-cb21-4442-8a78-e45868607b94",
   "metadata": {},
   "outputs": [],
   "source": []
  }
 ],
 "metadata": {
  "kernelspec": {
   "display_name": "Python 3 (ipykernel)",
   "language": "python",
   "name": "python3"
  },
  "language_info": {
   "codemirror_mode": {
    "name": "ipython",
    "version": 3
   },
   "file_extension": ".py",
   "mimetype": "text/x-python",
   "name": "python",
   "nbconvert_exporter": "python",
   "pygments_lexer": "ipython3",
   "version": "3.10.8"
  }
 },
 "nbformat": 4,
 "nbformat_minor": 5
}
