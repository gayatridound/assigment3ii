{
 "cells": [
  {
   "cell_type": "raw",
   "id": "e60f23b9-a7cd-4b2d-b556-55e23222a421",
   "metadata": {},
   "source": [
    "Q1.Create a pandas series that contains the following data:4,8,15,16,23, and 42.then,print the series."
   ]
  },
  {
   "cell_type": "code",
   "execution_count": 1,
   "id": "84d05e47-9558-4734-9b86-78172b81a280",
   "metadata": {},
   "outputs": [
    {
     "name": "stdout",
     "output_type": "stream",
     "text": [
      "0     4\n",
      "1     8\n",
      "2    15\n",
      "3    16\n",
      "4    23\n",
      "5    42\n",
      "dtype: int64\n"
     ]
    }
   ],
   "source": [
    "import pandas as pd\n",
    "\n",
    "# Create a Pandas Series\n",
    "data = [4, 8, 15, 16, 23, 42]\n",
    "series = pd.Series(data)\n",
    "\n",
    "# Print the Series\n",
    "print(series)\n"
   ]
  },
  {
   "cell_type": "raw",
   "id": "7c493ede-a248-4e44-8411-a9b4eddfd31e",
   "metadata": {},
   "source": [
    "Q2.Create a variable of list type containing 10 elements in it, and apply pandas.series function on the variable print it."
   ]
  },
  {
   "cell_type": "code",
   "execution_count": 2,
   "id": "dad04782-1404-468e-8fa1-a6c349424e41",
   "metadata": {},
   "outputs": [
    {
     "name": "stdout",
     "output_type": "stream",
     "text": [
      "0     1\n",
      "1     2\n",
      "2     3\n",
      "3     4\n",
      "4     5\n",
      "5     6\n",
      "6     7\n",
      "7     8\n",
      "8     9\n",
      "9    10\n",
      "dtype: int64\n"
     ]
    }
   ],
   "source": [
    "import pandas as pd\n",
    "\n",
    "# Create a list with 10 elements\n",
    "my_list = [1, 2, 3, 4, 5, 6, 7, 8, 9, 10]\n",
    "\n",
    "# Create a Pandas Series from the list\n",
    "series = pd.Series(my_list)\n",
    "\n",
    "# Print the Series\n",
    "print(series)\n"
   ]
  },
  {
   "cell_type": "code",
   "execution_count": null,
   "id": "26badff2-0a18-4293-9150-4a11777cb942",
   "metadata": {},
   "outputs": [],
   "source": []
  },
  {
   "cell_type": "raw",
   "id": "72ff6f7c-e77f-4e00-8a59-8981a39ee49d",
   "metadata": {},
   "source": [
    "Q3.Create a pandas Dataframe that contains the following data:"
   ]
  },
  {
   "cell_type": "code",
   "execution_count": 3,
   "id": "58ab72ac-4cae-45af-a79b-395b2f663054",
   "metadata": {},
   "outputs": [
    {
     "name": "stdout",
     "output_type": "stream",
     "text": [
      "     Name  Age  Gender\n",
      "0   Alice   25  Female\n",
      "1     Bob   30    Male\n",
      "2  Claire   27  Female\n"
     ]
    }
   ],
   "source": [
    "import pandas as pd\n",
    "\n",
    "# Create a dictionary with the data\n",
    "data = {\n",
    "    'Name': ['Alice', 'Bob', 'Claire'],\n",
    "    'Age': [25, 30, 27],\n",
    "    'Gender': ['Female', 'Male', 'Female']\n",
    "}\n",
    "\n",
    "# Create the DataFrame\n",
    "df = pd.DataFrame(data)\n",
    "\n",
    "# Print the DataFrame\n",
    "print(df)\n"
   ]
  },
  {
   "cell_type": "raw",
   "id": "986d3d03-045e-44d1-b79f-f7abab42b988",
   "metadata": {},
   "source": [
    "Q4.What is 'DtatFrame' in pandas and how is it different from pandas.series?Explain with an example."
   ]
  },
  {
   "cell_type": "markdown",
   "id": "d03a817a-d71d-42bf-bb71-ec1551143101",
   "metadata": {},
   "source": [
    "Pandas Series\n",
    "\n",
    "A Pandas Series is a one-dimensional labeled array capable of holding any data type (integers, floats, strings, objects, etc.). It can be thought of as a single column of a DataFrame."
   ]
  },
  {
   "cell_type": "code",
   "execution_count": 4,
   "id": "bbe0f7f9-4493-4381-8498-c6972cf19992",
   "metadata": {},
   "outputs": [
    {
     "name": "stdout",
     "output_type": "stream",
     "text": [
      "0    10\n",
      "1    20\n",
      "2    30\n",
      "3    40\n",
      "4    50\n",
      "dtype: int64\n"
     ]
    }
   ],
   "source": [
    "import pandas as pd\n",
    "\n",
    "data = [10, 20, 30, 40, 50]\n",
    "series = pd.Series(data)\n",
    "print(series)\n"
   ]
  },
  {
   "cell_type": "markdown",
   "id": "5defa362-bb33-4ded-8e6e-68e3312a53b3",
   "metadata": {},
   "source": [
    "Pandas DataFrame\n",
    "\n",
    "A Pandas DataFrame is a two-dimensional labeled data structure with columns of potentially different types. It is similar to a spreadsheet or a SQL table. It can be thought of as a collection of Series objects."
   ]
  },
  {
   "cell_type": "code",
   "execution_count": 5,
   "id": "a5f88ea5-67db-4a12-8671-8b0647f76e3c",
   "metadata": {},
   "outputs": [
    {
     "name": "stdout",
     "output_type": "stream",
     "text": [
      "      Name  Age         City\n",
      "0    Alice   25     New York\n",
      "1      Bob   30  Los Angeles\n",
      "2  Charlie   28      Chicago\n"
     ]
    }
   ],
   "source": [
    "import pandas as pd\n",
    "\n",
    "data = {'Name': ['Alice', 'Bob', 'Charlie'],\n",
    "        'Age': [25, 30, 28],\n",
    "        'City': ['New York', 'Los Angeles', 'Chicago']}\n",
    "df = pd.DataFrame(data)\n",
    "print(df)\n"
   ]
  },
  {
   "cell_type": "code",
   "execution_count": null,
   "id": "64aa94d3-ec86-4ab4-a4a7-5d8a3cba95d0",
   "metadata": {},
   "outputs": [],
   "source": []
  },
  {
   "cell_type": "raw",
   "id": "bb0ecaa4-ea19-412e-8689-7097fc53e63b",
   "metadata": {},
   "source": [
    "Q5.What are some comman functions you can use to amnipilate data in a pandas DataFrame?can you give  an example of when you might use one of these functions?"
   ]
  },
  {
   "cell_type": "code",
   "execution_count": 6,
   "id": "73b0a4d4-9889-4913-8497-33193be3d5dd",
   "metadata": {},
   "outputs": [
    {
     "name": "stdout",
     "output_type": "stream",
     "text": [
      "    Name  Age\n",
      "0  Alice   25\n",
      "1    Bob   30\n"
     ]
    }
   ],
   "source": [
    "import pandas as pd\n",
    "\n",
    "data = {'Name': ['Alice', 'Bob', 'Charlie'],\n",
    "        'Age': [25, 30, 28],\n",
    "        'City': ['New York', 'Los Angeles', 'Chicago']}\n",
    "df = pd.DataFrame(data)\n",
    "\n",
    "# Select rows by label\n",
    "print(df.loc[0:1, ['Name', 'Age']])\n"
   ]
  },
  {
   "cell_type": "code",
   "execution_count": 7,
   "id": "e98e57f0-2125-496a-95b1-7b1246b87fc9",
   "metadata": {},
   "outputs": [
    {
     "name": "stdout",
     "output_type": "stream",
     "text": [
      "    Name  Age\n",
      "0  Alice   25\n",
      "1    Bob   30\n"
     ]
    }
   ],
   "source": [
    "# Select first two rows and first two columns\n",
    "print(df.iloc[:2, :2])\n"
   ]
  },
  {
   "cell_type": "code",
   "execution_count": null,
   "id": "ec24dbfe-7e80-4c4b-a17d-241accaf76da",
   "metadata": {},
   "outputs": [],
   "source": []
  },
  {
   "cell_type": "raw",
   "id": "f1eb8f9c-6799-4166-866b-69128f23c8ea",
   "metadata": {},
   "source": [
    "Q6.Which of the following is mutable in nature Series,DataFrame,panel?"
   ]
  },
  {
   "cell_type": "raw",
   "id": "82b61331-17a6-4ed0-9358-a782e491a96d",
   "metadata": {},
   "source": [
    "Q7.Create a DataFrame using multiple Series. Explain with an example."
   ]
  },
  {
   "cell_type": "code",
   "execution_count": null,
   "id": "6d36a485-4184-41fe-a8d1-66ff66e2f71d",
   "metadata": {},
   "outputs": [],
   "source": []
  }
 ],
 "metadata": {
  "kernelspec": {
   "display_name": "Python 3 (ipykernel)",
   "language": "python",
   "name": "python3"
  },
  "language_info": {
   "codemirror_mode": {
    "name": "ipython",
    "version": 3
   },
   "file_extension": ".py",
   "mimetype": "text/x-python",
   "name": "python",
   "nbconvert_exporter": "python",
   "pygments_lexer": "ipython3",
   "version": "3.10.8"
  }
 },
 "nbformat": 4,
 "nbformat_minor": 5
}
