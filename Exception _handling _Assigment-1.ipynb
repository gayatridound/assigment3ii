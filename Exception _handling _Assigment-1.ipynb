{
 "cells": [
  {
   "cell_type": "raw",
   "id": "08c8c94c-9bea-4bf9-bc98-0e2711f075bf",
   "metadata": {},
   "source": [
    "Q1.What ia an Exception in python?Write the difference between Execptions abd syntax errors."
   ]
  },
  {
   "cell_type": "markdown",
   "id": "d2227140-9876-4462-95b1-2213b6330d62",
   "metadata": {},
   "source": [
    "Exceptions in Python\n",
    "An exception in Python is an error that occurs during the execution of a program. It disrupts the normal flow of the program and, if not handled, can cause the program to terminate abruptly. Exceptions are raised when unexpected conditions arise, such as attempting to divide by zero, accessing an index out of bounds, or opening a file that doesn't exist.\n",
    "\n",
    "Exceptions arise when the code is syntactically correct but encounters an issue during runtime. They can be anticipated and handled gracefully using try-except blocks to prevent program crashes.\n",
    "\n",
    "Syntax errors, on the other hand, are fundamental mistakes in the code structure that prevent the program from even running. These errors must be corrected before the program can execute."
   ]
  },
  {
   "cell_type": "raw",
   "id": "6c7f0d9c-f1e5-4fd0-9b21-1b6d8bc31357",
   "metadata": {},
   "source": [
    "Q2.What happens whwn an exception is not handled?Explain with an example."
   ]
  },
  {
   "cell_type": "markdown",
   "id": "b96f5c4a-87ab-4c46-9736-a7c4152e4677",
   "metadata": {},
   "source": [
    "Unhandled Exceptions in Python\n",
    "When an exception is not handled in Python, the program terminates abruptly. This means that the code execution stops at the point where the exception occurs, and any subsequent code is not executed."
   ]
  },
  {
   "cell_type": "code",
   "execution_count": null,
   "id": "294c7a07-61bc-42e8-b63c-4ce396560892",
   "metadata": {},
   "outputs": [],
   "source": [
    "def divide(x, y):\n",
    "  result = x / y\n",
    "  print(\"Result:\", result)\n",
    "\n",
    "num1 = 10\n",
    "num2 = 0\n",
    "\n",
    "divide(num1, num2)\n"
   ]
  },
  {
   "cell_type": "raw",
   "id": "de2e2ce5-83f5-4c06-8d16-df5dd742d405",
   "metadata": {},
   "source": [
    "Q3.Which python statments are used to catch and handle exceptions?Explain with an example."
   ]
  },
  {
   "cell_type": "markdown",
   "id": "e5b7a721-fbbe-4352-a879-c127e86e084a",
   "metadata": {},
   "source": [
    "Catching and Handling Exceptions in Python\n",
    "Python provides the try and except statements for catching and handling exceptions.\n",
    "\n",
    "The try and except Statements\n",
    "try: This block contains the code that might raise an exception.\n",
    "except: This block specifies the type of exception to catch and the code to be executed if that exception occurs."
   ]
  },
  {
   "cell_type": "code",
   "execution_count": null,
   "id": "443fb2de-06b8-4c79-8b5a-82f82ebb5299",
   "metadata": {},
   "outputs": [],
   "source": [
    "def divide(x, y):\n",
    "  try:\n",
    "    result = x / y\n",
    "    print(\"Result:\", result)\n",
    "  except ZeroDivisionError:\n",
    "    print(\"Error: Division by zero!\")\n",
    "\n",
    "num1 = 10\n",
    "num2 = 0\n",
    "\n",
    "divide(num1, num2)\n"
   ]
  },
  {
   "cell_type": "raw",
   "id": "5b4e0bb7-36bc-4f10-a6e2-7b3b60f5326d",
   "metadata": {},
   "source": [
    "Q4.Explain with an Example:\n",
    "a.tryand else\n",
    "b.finally\n",
    "c.raise"
   ]
  },
  {
   "cell_type": "code",
   "execution_count": null,
   "id": "81997d6c-710b-41d1-90ee-edef54ca06a8",
   "metadata": {},
   "outputs": [],
   "source": [
    "##############a. try and else ######################\n",
    "def divide(x, y):\n",
    "  try:\n",
    "    result = x / y\n",
    "  except ZeroDivisionError:\n",
    "    print(\"Error: Division by zero!\")\n",
    "  else:\n",
    "    print(\"Result:\", result)\n",
    "\n",
    "num1 = 10\n",
    "num2 = 2\n",
    "\n",
    "divide(num1, num2)\n",
    "\n",
    "##############b. finally####################\n",
    "\n",
    "def divide(x, y):\n",
    "  try:\n",
    "    result = x / y\n",
    "    print(\"Result:\", result)\n",
    "  except ZeroDivisionError:\n",
    "    print(\"Error: Division by zero!\")\n",
    "  finally:\n",
    "    print(\"This code will always execute\")\n",
    "\n",
    "num1 = 10\n",
    "num2 = 0\n",
    "\n",
    "divide(num1, num2)\n",
    "####################### raise ################\n",
    "def check_age(age):\n",
    "  if age < 18:\n",
    "    raise ValueError(\"Age must be greater than or equal to 18\")\n",
    "  else:\n",
    "    print(\"You are eligible\")\n",
    "\n",
    "try:\n",
    "  check_age(15)\n",
    "except ValueError as e:\n",
    "  print(e)\n",
    "\n",
    "\n"
   ]
  },
  {
   "cell_type": "raw",
   "id": "02d96ab9-c625-4d7e-bee5-be74fd9fc83a",
   "metadata": {},
   "source": [
    "Q5.What are customExceptions in python ?why do we need custom Exceptions?Explain with an example."
   ]
  },
  {
   "cell_type": "markdown",
   "id": "6fb278f9-6630-4a3a-8ebf-5c2d62e3f3ee",
   "metadata": {},
   "source": [
    "What are Custom Exceptions?\n",
    "Custom exceptions are user-defined exceptions in Python. They are created by inheriting from the built-in Exception class or its subclasses. This allows you to define specific error conditions that are relevant to your application's logic.\n",
    "\n",
    "Why Do We Need Custom Exceptions?\n",
    "Clarity and Specificity: Custom exceptions provide more specific information about the error, making it easier to understand and handle.\n",
    "Code Readability: By using custom exceptions, you can improve code readability by making the error handling more explicit.\n",
    "Error Handling Granularity: Custom exceptions allow for more fine-grained error handling, enabling you to handle different error conditions separately.\n",
    "Code Reusability: Custom exceptions can be reused across different parts of your application or even in different projects."
   ]
  },
  {
   "cell_type": "code",
   "execution_count": null,
   "id": "3c7c6360-67e1-4516-8c83-58e9e23c152c",
   "metadata": {},
   "outputs": [],
   "source": [
    "class InvalidAgeError(Exception):\n",
    "    \"\"\"Raised when the input age is invalid\"\"\"\n",
    "    def __init__(self, age):\n",
    "        self.age = age\n",
    "\n",
    "def check_age(age):\n",
    "    if age < 0:\n",
    "        raise InvalidAgeError(\"Age cannot be negative\")\n",
    "    elif age > 150:\n",
    "        raise InvalidAgeError(\"Age cannot be greater than 150\")\n",
    "\n",
    "try:\n",
    "    age = int(input(\"Enter your age: \"))\n",
    "    check_age(age)\n",
    "    print(\"Valid age\")\n",
    "except InvalidAgeError as e:\n",
    "    print(e)\n"
   ]
  },
  {
   "cell_type": "raw",
   "id": "9c04070b-8b22-40ae-9a29-4fa9ee38bb8b",
   "metadata": {},
   "source": [
    "Q6.Create a custom exception class.Use this class to handle an exception."
   ]
  },
  {
   "cell_type": "code",
   "execution_count": 1,
   "id": "fac7909d-d4b8-4821-9588-0014fc4f161c",
   "metadata": {},
   "outputs": [
    {
     "name": "stdout",
     "output_type": "stream",
     "text": [
      "Insufficient balance. Current balance: 100, Amount to withdraw: 150\n"
     ]
    }
   ],
   "source": [
    "class InsufficientBalanceError(Exception):\n",
    "    \"\"\"Raised when the account balance is insufficient.\"\"\"\n",
    "\n",
    "    def __init__(self, balance, amount):\n",
    "        self.balance = balance\n",
    "        self.amount = amount\n",
    "        self.message = f\"Insufficient balance. Current balance: {balance}, Amount to withdraw: {amount}\"\n",
    "        super().__init__(self.message)\n",
    "\n",
    "def withdraw(balance, amount):\n",
    "    if amount > balance:\n",
    "        raise InsufficientBalanceError(balance, amount)\n",
    "    else:\n",
    "        return balance - amount\n",
    "\n",
    "try:\n",
    "    current_balance = 100\n",
    "    withdrawal_amount = 150\n",
    "    new_balance = withdraw(current_balance, withdrawal_amount)\n",
    "    print(\"Withdrawal successful. New balance:\", new_balance)\n",
    "except InsufficientBalanceError as e:\n",
    "    print(e)\n"
   ]
  },
  {
   "cell_type": "code",
   "execution_count": null,
   "id": "c534d579-81e2-4104-8a33-6294cbfaa5f8",
   "metadata": {},
   "outputs": [],
   "source": []
  }
 ],
 "metadata": {
  "kernelspec": {
   "display_name": "Python 3 (ipykernel)",
   "language": "python",
   "name": "python3"
  },
  "language_info": {
   "codemirror_mode": {
    "name": "ipython",
    "version": 3
   },
   "file_extension": ".py",
   "mimetype": "text/x-python",
   "name": "python",
   "nbconvert_exporter": "python",
   "pygments_lexer": "ipython3",
   "version": "3.10.8"
  }
 },
 "nbformat": 4,
 "nbformat_minor": 5
}
